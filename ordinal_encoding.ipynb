{
  "nbformat": 4,
  "nbformat_minor": 0,
  "metadata": {
    "colab": {
      "name": "ordinal_encoding.ipynb",
      "provenance": [],
      "authorship_tag": "ABX9TyNkufLp5rlpDLzxujiG1w53",
      "include_colab_link": true
    },
    "kernelspec": {
      "name": "python3",
      "display_name": "Python 3"
    },
    "language_info": {
      "name": "python"
    }
  },
  "cells": [
    {
      "cell_type": "markdown",
      "metadata": {
        "id": "view-in-github",
        "colab_type": "text"
      },
      "source": [
        "<a href=\"https://colab.research.google.com/github/Arjunb79/DS-ML-LAB/blob/main/ordinal_encoding.ipynb\" target=\"_parent\"><img src=\"https://colab.research.google.com/assets/colab-badge.svg\" alt=\"Open In Colab\"/></a>"
      ]
    },
    {
      "cell_type": "code",
      "execution_count": null,
      "metadata": {
        "colab": {
          "base_uri": "https://localhost:8080/"
        },
        "id": "hDWUq1QLIhXI",
        "outputId": "bd8a0b2c-82d0-4624-f5cf-3cd16fe40187"
      },
      "outputs": [
        {
          "output_type": "stream",
          "name": "stdout",
          "text": [
            "[['red']\n",
            " ['green']\n",
            " ['blue']]\n",
            "[[2.]\n",
            " [1.]\n",
            " [0.]]\n"
          ]
        }
      ],
      "source": [
        "from numpy import asarray\n",
        "from sklearn.preprocessing import OrdinalEncoder\n",
        "data=asarray([['red'],['green'],['blue']])\n",
        "print(data)\n",
        "encoder=OrdinalEncoder()\n",
        "result=encoder.fit_transform(data)\n",
        "print(result)"
      ]
    },
    {
      "cell_type": "code",
      "source": [
        "from numpy import asarray\n",
        "from sklearn.preprocessing import OneHotEncoder\n",
        "data=asarray([['red'],['green'],['blue']])\n",
        "print(data)\n",
        "encoder=OneHotEncoder(drop='first',sparse=False)\n",
        "onehot=encoder.fit_transform(data)\n",
        "print(onehot)\n",
        "\n"
      ],
      "metadata": {
        "colab": {
          "base_uri": "https://localhost:8080/"
        },
        "id": "ryY_hKvBKmpX",
        "outputId": "c796b1a9-1372-4385-b773-4c805831b8ed"
      },
      "execution_count": null,
      "outputs": [
        {
          "output_type": "stream",
          "name": "stdout",
          "text": [
            "[['red']\n",
            " ['green']\n",
            " ['blue']]\n",
            "[[0. 1.]\n",
            " [1. 0.]\n",
            " [0. 0.]]\n"
          ]
        }
      ]
    },
    {
      "cell_type": "code",
      "source": [
        "from numpy import asarray\n",
        "from sklearn.preprocessing import OneHotEncoder\n",
        "data=asarray([['red'],['green'],['blue']])\n",
        "print(data)\n",
        "encoder=OneHotEncoder(sparse=False)\n",
        "onehot=encoder.fit_transform(data)\n",
        "print(onehot)\n"
      ],
      "metadata": {
        "colab": {
          "base_uri": "https://localhost:8080/"
        },
        "id": "hxVy_fTWLw7G",
        "outputId": "9c483cdc-eca4-455f-93d4-64a25102ae3c"
      },
      "execution_count": null,
      "outputs": [
        {
          "output_type": "stream",
          "name": "stdout",
          "text": [
            "[['red']\n",
            " ['green']\n",
            " ['blue']]\n",
            "[[0. 0. 1.]\n",
            " [0. 1. 0.]\n",
            " [1. 0. 0.]]\n"
          ]
        }
      ]
    }
  ]
}