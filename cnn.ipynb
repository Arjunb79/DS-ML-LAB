{
  "nbformat": 4,
  "nbformat_minor": 0,
  "metadata": {
    "colab": {
      "provenance": [],
      "authorship_tag": "ABX9TyNZz3Xrc6NiKJI0NvVeso2N",
      "include_colab_link": true
    },
    "kernelspec": {
      "name": "python3",
      "display_name": "Python 3"
    },
    "language_info": {
      "name": "python"
    }
  },
  "cells": [
    {
      "cell_type": "markdown",
      "metadata": {
        "id": "view-in-github",
        "colab_type": "text"
      },
      "source": [
        "<a href=\"https://colab.research.google.com/github/Arjunb79/DS-ML-LAB/blob/main/cnn.ipynb\" target=\"_parent\"><img src=\"https://colab.research.google.com/assets/colab-badge.svg\" alt=\"Open In Colab\"/></a>"
      ]
    },
    {
      "cell_type": "code",
      "execution_count": 37,
      "metadata": {
        "id": "HAlV2IZtZax6"
      },
      "outputs": [],
      "source": [
        "from keras.datasets import cifar10\n",
        "import matplotlib.pyplot as plt\n"
      ]
    },
    {
      "cell_type": "code",
      "source": [
        "(x_train,y_train),(x_test,y_test)=cifar10.load_data()"
      ],
      "metadata": {
        "id": "UKAsMHs1fRz2"
      },
      "execution_count": 38,
      "outputs": []
    },
    {
      "cell_type": "code",
      "source": [
        "x_train.shape"
      ],
      "metadata": {
        "colab": {
          "base_uri": "https://localhost:8080/"
        },
        "id": "s7y443n1fcL7",
        "outputId": "2f54367c-ff21-4bb2-e1d6-1f09aab5e843"
      },
      "execution_count": 39,
      "outputs": [
        {
          "output_type": "execute_result",
          "data": {
            "text/plain": [
              "(50000, 32, 32, 3)"
            ]
          },
          "metadata": {},
          "execution_count": 39
        }
      ]
    },
    {
      "cell_type": "code",
      "source": [
        "x_test.shape"
      ],
      "metadata": {
        "colab": {
          "base_uri": "https://localhost:8080/"
        },
        "id": "_fnX8Tv4feco",
        "outputId": "47afd1a3-02ff-4f34-e37b-5d49bbc95988"
      },
      "execution_count": 40,
      "outputs": [
        {
          "output_type": "execute_result",
          "data": {
            "text/plain": [
              "(10000, 32, 32, 3)"
            ]
          },
          "metadata": {},
          "execution_count": 40
        }
      ]
    },
    {
      "cell_type": "code",
      "source": [
        "x_train=x_train.reshape(50000,32,32,3).astype('float64')\n",
        "x_test=x_test.reshape(10000,32,32,3).astype('float64')\n"
      ],
      "metadata": {
        "id": "8JFYIt6rfh21"
      },
      "execution_count": 41,
      "outputs": []
    },
    {
      "cell_type": "code",
      "source": [
        "x_train/=255\n",
        "x_test/=255"
      ],
      "metadata": {
        "id": "2_dDsCdzfsFF"
      },
      "execution_count": 42,
      "outputs": []
    },
    {
      "cell_type": "code",
      "source": [
        "from keras.models import Sequential\n",
        "from keras.layers import Conv2D,MaxPool2D,Flatten,Dense"
      ],
      "metadata": {
        "id": "xIIqvrbPglMB"
      },
      "execution_count": 43,
      "outputs": []
    },
    {
      "cell_type": "code",
      "source": [
        "cnn=Sequential()\n",
        "cnn.add(Conv2D(32,kernel_size=(3,3),activation='relu',input_shape=(32,32,3)))"
      ],
      "metadata": {
        "id": "hR9OvQ4khBSy"
      },
      "execution_count": 44,
      "outputs": []
    },
    {
      "cell_type": "code",
      "source": [
        "cnn.add(MaxPool2D((2,2)))"
      ],
      "metadata": {
        "id": "memi2RqmhzcZ"
      },
      "execution_count": 45,
      "outputs": []
    },
    {
      "cell_type": "code",
      "source": [
        "cnn.add(Conv2D(32,activation='relu',kernel_size=(3,3)))"
      ],
      "metadata": {
        "id": "wT_z7swhicGf"
      },
      "execution_count": 46,
      "outputs": []
    },
    {
      "cell_type": "code",
      "source": [
        "cnn.add(MaxPool2D((2,2)))"
      ],
      "metadata": {
        "id": "d0KOKr4sin3t"
      },
      "execution_count": 47,
      "outputs": []
    },
    {
      "cell_type": "code",
      "source": [
        "cnn.add(Flatten())"
      ],
      "metadata": {
        "id": "IfW2oMysiqAA"
      },
      "execution_count": 49,
      "outputs": []
    },
    {
      "cell_type": "code",
      "source": [
        "cnn.add(Dense(64,activation='sigmoid'))"
      ],
      "metadata": {
        "id": "ElNR-bGbjAMi"
      },
      "execution_count": 51,
      "outputs": []
    },
    {
      "cell_type": "code",
      "source": [
        "cnn.add(Dense(10,activation='softmax'))"
      ],
      "metadata": {
        "id": "dfhxWTEHjJBP"
      },
      "execution_count": 53,
      "outputs": []
    },
    {
      "cell_type": "code",
      "source": [
        "cnn.summary()"
      ],
      "metadata": {
        "colab": {
          "base_uri": "https://localhost:8080/"
        },
        "id": "H4J78j72jS93",
        "outputId": "d060e3a9-4647-4c95-a0bc-6521150a4580"
      },
      "execution_count": 55,
      "outputs": [
        {
          "output_type": "stream",
          "name": "stdout",
          "text": [
            "Model: \"sequential_1\"\n",
            "_________________________________________________________________\n",
            " Layer (type)                Output Shape              Param #   \n",
            "=================================================================\n",
            " conv2d_4 (Conv2D)           (None, 30, 30, 32)        896       \n",
            "                                                                 \n",
            " max_pooling2d_5 (MaxPooling  (None, 15, 15, 32)       0         \n",
            " 2D)                                                             \n",
            "                                                                 \n",
            " conv2d_5 (Conv2D)           (None, 13, 13, 32)        9248      \n",
            "                                                                 \n",
            " max_pooling2d_6 (MaxPooling  (None, 6, 6, 32)         0         \n",
            " 2D)                                                             \n",
            "                                                                 \n",
            " flatten (Flatten)           (None, 1152)              0         \n",
            "                                                                 \n",
            " flatten_1 (Flatten)         (None, 1152)              0         \n",
            "                                                                 \n",
            " dense (Dense)               (None, 64)                73792     \n",
            "                                                                 \n",
            " dense_1 (Dense)             (None, 10)                650       \n",
            "                                                                 \n",
            " dense_2 (Dense)             (None, 10)                110       \n",
            "                                                                 \n",
            "=================================================================\n",
            "Total params: 84,696\n",
            "Trainable params: 84,696\n",
            "Non-trainable params: 0\n",
            "_________________________________________________________________\n"
          ]
        }
      ]
    },
    {
      "cell_type": "code",
      "source": [
        "cnn.compile(loss='sparse_categorical_crossentropy',optimizer='adam',metrics=['accuracy'])"
      ],
      "metadata": {
        "id": "hE3Ajz6bjbmG"
      },
      "execution_count": 56,
      "outputs": []
    },
    {
      "cell_type": "code",
      "source": [
        "cnn.fit(x_train,y_train,epochs=20)"
      ],
      "metadata": {
        "colab": {
          "base_uri": "https://localhost:8080/"
        },
        "id": "Lm_m-9QPjoGr",
        "outputId": "d4671c19-c00b-46bc-e3a1-820b5e9e677b"
      },
      "execution_count": 57,
      "outputs": [
        {
          "output_type": "stream",
          "name": "stdout",
          "text": [
            "Epoch 1/20\n",
            "1563/1563 [==============================] - 62s 39ms/step - loss: 2.0426 - accuracy: 0.2142\n",
            "Epoch 2/20\n",
            "1563/1563 [==============================] - 58s 37ms/step - loss: 1.8375 - accuracy: 0.2564\n",
            "Epoch 3/20\n",
            "1563/1563 [==============================] - 56s 36ms/step - loss: 1.7631 - accuracy: 0.2790\n",
            "Epoch 4/20\n",
            "1563/1563 [==============================] - 59s 38ms/step - loss: 1.6702 - accuracy: 0.3476\n",
            "Epoch 5/20\n",
            "1563/1563 [==============================] - 58s 37ms/step - loss: 1.5621 - accuracy: 0.4047\n",
            "Epoch 6/20\n",
            "1563/1563 [==============================] - 57s 37ms/step - loss: 1.4750 - accuracy: 0.4536\n",
            "Epoch 7/20\n",
            "1563/1563 [==============================] - 60s 38ms/step - loss: 1.3995 - accuracy: 0.4861\n",
            "Epoch 8/20\n",
            "1563/1563 [==============================] - 59s 38ms/step - loss: 1.3263 - accuracy: 0.5180\n",
            "Epoch 9/20\n",
            "1563/1563 [==============================] - 58s 37ms/step - loss: 1.2680 - accuracy: 0.5415\n",
            "Epoch 10/20\n",
            "1563/1563 [==============================] - 59s 38ms/step - loss: 1.2100 - accuracy: 0.5680\n",
            "Epoch 11/20\n",
            "1563/1563 [==============================] - 59s 38ms/step - loss: 1.1599 - accuracy: 0.5877\n",
            "Epoch 12/20\n",
            "1563/1563 [==============================] - 59s 38ms/step - loss: 1.1105 - accuracy: 0.6045\n",
            "Epoch 13/20\n",
            "1563/1563 [==============================] - 61s 39ms/step - loss: 1.0665 - accuracy: 0.6239\n",
            "Epoch 14/20\n",
            "1563/1563 [==============================] - 60s 38ms/step - loss: 1.0212 - accuracy: 0.6402\n",
            "Epoch 15/20\n",
            "1563/1563 [==============================] - 60s 39ms/step - loss: 0.9838 - accuracy: 0.6540\n",
            "Epoch 16/20\n",
            "1563/1563 [==============================] - 67s 43ms/step - loss: 0.9527 - accuracy: 0.6662\n",
            "Epoch 17/20\n",
            "1563/1563 [==============================] - 66s 42ms/step - loss: 0.9160 - accuracy: 0.6773\n",
            "Epoch 18/20\n",
            "1563/1563 [==============================] - 62s 40ms/step - loss: 0.8833 - accuracy: 0.6925\n",
            "Epoch 19/20\n",
            "1563/1563 [==============================] - 60s 38ms/step - loss: 0.8505 - accuracy: 0.7057\n",
            "Epoch 20/20\n",
            "1563/1563 [==============================] - 60s 38ms/step - loss: 0.8251 - accuracy: 0.7149\n"
          ]
        },
        {
          "output_type": "execute_result",
          "data": {
            "text/plain": [
              "<keras.callbacks.History at 0x7f6a473251c0>"
            ]
          },
          "metadata": {},
          "execution_count": 57
        }
      ]
    },
    {
      "cell_type": "code",
      "source": [
        "re=cnn.evaluate(x_test,y_test)\n",
        "re"
      ],
      "metadata": {
        "colab": {
          "base_uri": "https://localhost:8080/"
        },
        "id": "PS2orFYejue3",
        "outputId": "fa1b81ab-0d4a-4b2d-d0d6-f3988176fded"
      },
      "execution_count": 61,
      "outputs": [
        {
          "output_type": "stream",
          "name": "stdout",
          "text": [
            "313/313 [==============================] - 4s 14ms/step - loss: 1.3384 - accuracy: 0.5729\n"
          ]
        },
        {
          "output_type": "execute_result",
          "data": {
            "text/plain": [
              "[1.338437795639038, 0.5728999972343445]"
            ]
          },
          "metadata": {},
          "execution_count": 61
        }
      ]
    },
    {
      "cell_type": "code",
      "source": [
        "import matplotlib.pyplot as plt"
      ],
      "metadata": {
        "id": "bxOBwzo2os_d"
      },
      "execution_count": 62,
      "outputs": []
    },
    {
      "cell_type": "code",
      "source": [
        "plt.figure(figsize=(5,2))\n",
        "plt.imshow(x_train[0])"
      ],
      "metadata": {
        "colab": {
          "base_uri": "https://localhost:8080/",
          "height": 176
        },
        "id": "cR5BNBNBo0UH",
        "outputId": "4fc491df-b271-4a97-c6eb-b662e92ac4e1"
      },
      "execution_count": 64,
      "outputs": [
        {
          "output_type": "execute_result",
          "data": {
            "text/plain": [
              "<matplotlib.image.AxesImage at 0x7f6a46a99cd0>"
            ]
          },
          "metadata": {},
          "execution_count": 64
        },
        {
          "output_type": "display_data",
          "data": {
            "text/plain": [
              "<Figure size 360x144 with 1 Axes>"
            ],
            "image/png": "[encoded data removed]"
          },
          "metadata": {
            "needs_background": "light"
          }
        }
      ]
    }
  ]
}