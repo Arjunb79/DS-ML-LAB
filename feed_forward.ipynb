{
  "nbformat": 4,
  "nbformat_minor": 0,
  "metadata": {
    "colab": {
      "provenance": [],
      "authorship_tag": "ABX9TyMEe4Qdjhgo3opR5++MQBdy",
      "include_colab_link": true
    },
    "kernelspec": {
      "name": "python3",
      "display_name": "Python 3"
    },
    "language_info": {
      "name": "python"
    }
  },
  "cells": [
    {
      "cell_type": "markdown",
      "metadata": {
        "id": "view-in-github",
        "colab_type": "text"
      },
      "source": [
        "<a href=\"https://colab.research.google.com/github/Arjunb79/DS-ML-LAB/blob/main/feed_forward.ipynb\" target=\"_parent\"><img src=\"https://colab.research.google.com/assets/colab-badge.svg\" alt=\"Open In Colab\"/></a>"
      ]
    },
    {
      "cell_type": "code",
      "execution_count": 6,
      "metadata": {
        "id": "WVQHB3HiYPth"
      },
      "outputs": [],
      "source": [
        "import keras\n",
        "from keras.datasets import mnist\n",
        "from keras.models import Sequential\n",
        "from keras.layers import Dense\n",
        "from tensorflow.keras.optimizers import SGD\n"
      ]
    },
    {
      "cell_type": "code",
      "source": [
        "(x_train,y_train),(x_test,y_test)=mnist.load_data()"
      ],
      "metadata": {
        "id": "fMxp7_FhYszH"
      },
      "execution_count": 11,
      "outputs": []
    },
    {
      "cell_type": "code",
      "source": [
        "x_train.shape"
      ],
      "metadata": {
        "colab": {
          "base_uri": "https://localhost:8080/"
        },
        "id": "5LsonpAJZJ8Q",
        "outputId": "b63e8d61-50ee-49ce-a5b8-7af7eb12334a"
      },
      "execution_count": 12,
      "outputs": [
        {
          "output_type": "execute_result",
          "data": {
            "text/plain": [
              "(60000, 28, 28)"
            ]
          },
          "metadata": {},
          "execution_count": 12
        }
      ]
    },
    {
      "cell_type": "code",
      "source": [
        "import matplotlib.pyplot as plt\n",
        "plt.figure(figsize=(5,5))\n",
        "for k in range(20):\n",
        "  plt.subplot(10,2,k+1)\n",
        "  plt.imshow(x_train[k],cmap='Greys')\n",
        "  plt.axis('off')\n",
        "plt.show()  "
      ],
      "metadata": {
        "colab": {
          "base_uri": "https://localhost:8080/",
          "height": 303
        },
        "id": "_3jx09IxZkpa",
        "outputId": "d7cf3f9a-3843-4ce8-f1d0-4e76e2017a45"
      },
      "execution_count": 14,
      "outputs": [
        {
          "output_type": "display_data",
          "data": {
            "text/plain": [
              "<Figure size 360x360 with 20 Axes>"
            ],
            "image/png": "[encoded data removed]"
          },
          "metadata": {
            "needs_background": "light"
          }
        }
      ]
    },
    {
      "cell_type": "code",
      "source": [
        "plt.imshow(x_test[0],cmap='Greys')"
      ],
      "metadata": {
        "colab": {
          "base_uri": "https://localhost:8080/",
          "height": 282
        },
        "id": "36HWWkaQaDGz",
        "outputId": "69cf95af-2cd3-486d-d8f8-b74791e19fb8"
      },
      "execution_count": 17,
      "outputs": [
        {
          "output_type": "execute_result",
          "data": {
            "text/plain": [
              "<matplotlib.image.AxesImage at 0x7f2368ae9810>"
            ]
          },
          "metadata": {},
          "execution_count": 17
        },
        {
          "output_type": "display_data",
          "data": {
            "text/plain": [
              "<Figure size 432x288 with 1 Axes>"
            ],
            "image/png": "[encoded data removed]"
          },
          "metadata": {
            "needs_background": "light"
          }
        }
      ]
    },
    {
      "cell_type": "code",
      "source": [
        "x_train=x_train.reshape(60000,784).astype('float32')\n",
        "x_test=x_test.reshape(10000,784).astype('float32')"
      ],
      "metadata": {
        "id": "kZegVoyVaerc"
      },
      "execution_count": 19,
      "outputs": []
    },
    {
      "cell_type": "code",
      "source": [
        "x_train/=255\n",
        "x_test/=255"
      ],
      "metadata": {
        "id": "bhe2u9kSa63q"
      },
      "execution_count": 20,
      "outputs": []
    },
    {
      "cell_type": "code",
      "source": [
        "from keras import utils as np_utils\n",
        "n_class=0\n",
        "y_train=keras.utils.np_utils.to_categorical(y_train,n_class)\n",
        "y_test=keras.utils.np_utils.to_categorical(y_test,n_class)\n"
      ],
      "metadata": {
        "id": "AUP0bKVhbFi6"
      },
      "execution_count": 22,
      "outputs": []
    },
    {
      "cell_type": "code",
      "source": [
        "y_test[0]"
      ],
      "metadata": {
        "colab": {
          "base_uri": "https://localhost:8080/"
        },
        "id": "dzYQRSVmcC9e",
        "outputId": "0610bc63-eb60-45fc-b6cb-19cb85da097b"
      },
      "execution_count": 25,
      "outputs": [
        {
          "output_type": "execute_result",
          "data": {
            "text/plain": [
              "array([0., 0., 0., 0., 0., 0., 0., 1., 0., 0.], dtype=float32)"
            ]
          },
          "metadata": {},
          "execution_count": 25
        }
      ]
    },
    {
      "cell_type": "code",
      "source": [
        "model=Sequential()\n",
        "model.add(Dense(64,activation='sigmoid',input_shape=(784,)))\n",
        "model.add(Dense(10,activation='softmax'))\n",
        "model.summary()"
      ],
      "metadata": {
        "colab": {
          "base_uri": "https://localhost:8080/"
        },
        "id": "l5Wog7WpcMmj",
        "outputId": "6582f82a-3bd4-47f0-d4f9-2167a491ebc2"
      },
      "execution_count": 28,
      "outputs": [
        {
          "output_type": "stream",
          "name": "stdout",
          "text": [
            "Model: \"sequential_2\"\n",
            "_________________________________________________________________\n",
            " Layer (type)                Output Shape              Param #   \n",
            "=================================================================\n",
            " dense_4 (Dense)             (None, 64)                50240     \n",
            "                                                                 \n",
            " dense_5 (Dense)             (None, 10)                650       \n",
            "                                                                 \n",
            "=================================================================\n",
            "Total params: 50,890\n",
            "Trainable params: 50,890\n",
            "Non-trainable params: 0\n",
            "_________________________________________________________________\n"
          ]
        }
      ]
    },
    {
      "cell_type": "code",
      "source": [
        "model.compile(loss='mean_squared_error',optimizer=SGD(learning_rate=0.01),metrics=['accuracy'])\n",
        "history=model.fit(x_train,y_train,batch_size=125,epochs=30,verbose=1)\n",
        "\n"
      ],
      "metadata": {
        "colab": {
          "base_uri": "https://localhost:8080/"
        },
        "id": "LLDEatoYcq0P",
        "outputId": "4f5e3332-7ff9-4226-adfe-3a391aced911"
      },
      "execution_count": 31,
      "outputs": [
        {
          "output_type": "stream",
          "name": "stdout",
          "text": [
            "Epoch 1/30\n",
            "480/480 [==============================] - 2s 4ms/step - loss: 0.0920 - accuracy: 0.1080\n",
            "Epoch 2/30\n",
            "480/480 [==============================] - 2s 3ms/step - loss: 0.0910 - accuracy: 0.1359\n",
            "Epoch 3/30\n",
            "480/480 [==============================] - 2s 3ms/step - loss: 0.0903 - accuracy: 0.1616\n",
            "Epoch 4/30\n",
            "480/480 [==============================] - 2s 4ms/step - loss: 0.0898 - accuracy: 0.1809\n",
            "Epoch 5/30\n",
            "480/480 [==============================] - 2s 3ms/step - loss: 0.0893 - accuracy: 0.2028\n",
            "Epoch 6/30\n",
            "480/480 [==============================] - 2s 3ms/step - loss: 0.0889 - accuracy: 0.2312\n",
            "Epoch 7/30\n",
            "480/480 [==============================] - 2s 4ms/step - loss: 0.0885 - accuracy: 0.2678\n",
            "Epoch 8/30\n",
            "480/480 [==============================] - 2s 4ms/step - loss: 0.0881 - accuracy: 0.3119\n",
            "Epoch 9/30\n",
            "480/480 [==============================] - 2s 4ms/step - loss: 0.0877 - accuracy: 0.3598\n",
            "Epoch 10/30\n",
            "480/480 [==============================] - 2s 4ms/step - loss: 0.0874 - accuracy: 0.4029\n",
            "Epoch 11/30\n",
            "480/480 [==============================] - 2s 4ms/step - loss: 0.0870 - accuracy: 0.4337\n",
            "Epoch 12/30\n",
            "480/480 [==============================] - 2s 4ms/step - loss: 0.0867 - accuracy: 0.4556\n",
            "Epoch 13/30\n",
            "480/480 [==============================] - 2s 4ms/step - loss: 0.0863 - accuracy: 0.4706\n",
            "Epoch 14/30\n",
            "480/480 [==============================] - 2s 4ms/step - loss: 0.0859 - accuracy: 0.4806\n",
            "Epoch 15/30\n",
            "480/480 [==============================] - 2s 4ms/step - loss: 0.0856 - accuracy: 0.4895\n",
            "Epoch 16/30\n",
            "480/480 [==============================] - 2s 4ms/step - loss: 0.0852 - accuracy: 0.4948\n",
            "Epoch 17/30\n",
            "480/480 [==============================] - 2s 4ms/step - loss: 0.0848 - accuracy: 0.5008\n",
            "Epoch 18/30\n",
            "480/480 [==============================] - 2s 5ms/step - loss: 0.0845 - accuracy: 0.5059\n",
            "Epoch 19/30\n",
            "480/480 [==============================] - 2s 4ms/step - loss: 0.0841 - accuracy: 0.5123\n",
            "Epoch 20/30\n",
            "480/480 [==============================] - 2s 4ms/step - loss: 0.0837 - accuracy: 0.5170\n",
            "Epoch 21/30\n",
            "480/480 [==============================] - 2s 4ms/step - loss: 0.0833 - accuracy: 0.5232\n",
            "Epoch 22/30\n",
            "480/480 [==============================] - 2s 4ms/step - loss: 0.0829 - accuracy: 0.5284\n",
            "Epoch 23/30\n",
            "480/480 [==============================] - 2s 4ms/step - loss: 0.0825 - accuracy: 0.5319\n",
            "Epoch 24/30\n",
            "480/480 [==============================] - 2s 4ms/step - loss: 0.0820 - accuracy: 0.5374\n",
            "Epoch 25/30\n",
            "480/480 [==============================] - 2s 4ms/step - loss: 0.0816 - accuracy: 0.5428\n",
            "Epoch 26/30\n",
            "480/480 [==============================] - 3s 6ms/step - loss: 0.0811 - accuracy: 0.5473\n",
            "Epoch 27/30\n",
            "480/480 [==============================] - 2s 4ms/step - loss: 0.0807 - accuracy: 0.5519\n",
            "Epoch 28/30\n",
            "480/480 [==============================] - 2s 5ms/step - loss: 0.0802 - accuracy: 0.5540\n",
            "Epoch 29/30\n",
            "480/480 [==============================] - 3s 6ms/step - loss: 0.0797 - accuracy: 0.5593\n",
            "Epoch 30/30\n",
            "480/480 [==============================] - 2s 4ms/step - loss: 0.0792 - accuracy: 0.5631\n"
          ]
        }
      ]
    },
    {
      "cell_type": "code",
      "source": [],
      "metadata": {
        "id": "-KUg7IlBdcBQ"
      },
      "execution_count": null,
      "outputs": []
    }
  ]
}