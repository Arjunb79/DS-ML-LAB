{
  "nbformat": 4,
  "nbformat_minor": 0,
  "metadata": {
    "colab": {
      "provenance": [],
      "include_colab_link": true
    },
    "kernelspec": {
      "name": "python3",
      "display_name": "Python 3"
    },
    "language_info": {
      "name": "python"
    }
  },
  "cells": [
    {
      "cell_type": "markdown",
      "metadata": {
        "id": "view-in-github",
        "colab_type": "text"
      },
      "source": [
        "<a href=\"https://colab.research.google.com/github/Arjunb79/DS-ML-LAB/blob/main/feedforward.ipynb\" target=\"_parent\"><img src=\"https://colab.research.google.com/assets/colab-badge.svg\" alt=\"Open In Colab\"/></a>"
      ]
    },
    {
      "cell_type": "code",
      "execution_count": null,
      "metadata": {
        "id": "1l6eajuPEI2l"
      },
      "outputs": [],
      "source": [
        "from keras.datasets import mnist\n",
        "from keras.models import Sequential\n",
        "from keras.layers import Dense\n",
        "import matplotlib.pyplot as plt\n"
      ]
    },
    {
      "cell_type": "code",
      "source": [
        "(x_train,y_train),(x_test,y_test)=mnist.load_data()"
      ],
      "metadata": {
        "id": "7fpeXFIEF-wk",
        "colab": {
          "base_uri": "https://localhost:8080/"
        },
        "outputId": "b065d0b8-6b9f-40a3-bd12-bd133e03a46f"
      },
      "execution_count": null,
      "outputs": [
        {
          "output_type": "stream",
          "name": "stdout",
          "text": [
            "Downloading data from https://storage.googleapis.com/tensorflow/tf-keras-datasets/mnist.npz\n",
            "11490434/11490434 [==============================] - 0s 0us/step\n"
          ]
        }
      ]
    },
    {
      "cell_type": "code",
      "source": [
        "x_train.shape"
      ],
      "metadata": {
        "colab": {
          "base_uri": "https://localhost:8080/"
        },
        "id": "NBWSQTwKGzwL",
        "outputId": "fb0ba613-35cd-4c5b-ed4f-11ce19e00f28"
      },
      "execution_count": null,
      "outputs": [
        {
          "output_type": "execute_result",
          "data": {
            "text/plain": [
              "(60000, 28, 28)"
            ]
          },
          "metadata": {},
          "execution_count": 3
        }
      ]
    },
    {
      "cell_type": "code",
      "source": [
        "x_test.shape"
      ],
      "metadata": {
        "colab": {
          "base_uri": "https://localhost:8080/"
        },
        "id": "NP8NlWOOHTuQ",
        "outputId": "cf885524-44e4-46ab-f9e3-ba791bad0e82"
      },
      "execution_count": null,
      "outputs": [
        {
          "output_type": "execute_result",
          "data": {
            "text/plain": [
              "(10000, 28, 28)"
            ]
          },
          "metadata": {},
          "execution_count": 4
        }
      ]
    },
    {
      "cell_type": "code",
      "source": [
        "plt.figure(figsize=(5,5))\n",
        "for i in range(20):\n",
        "  plt.subplot(10,2,i+1)\n",
        "  plt.imshow(x_train[i],cmap=\"Greys\")\n",
        "  plt.axis('off')\n",
        "plt.show() \n"
      ],
      "metadata": {
        "colab": {
          "base_uri": "https://localhost:8080/",
          "height": 303
        },
        "id": "Z7dSLZa-HWJ8",
        "outputId": "1b827926-e173-4b16-e147-f9554edb233c"
      },
      "execution_count": null,
      "outputs": [
        {
          "output_type": "display_data",
          "data": {
            "text/plain": [
              "<Figure size 360x360 with 20 Axes>"
            ],
            "image/png": "[encoded data removed]"
          },
          "metadata": {
            "needs_background": "light"
          }
        }
      ]
    },
    {
      "cell_type": "code",
      "source": [
        "plt.imshow(x_test[0],cmap='Greys')"
      ],
      "metadata": {
        "colab": {
          "base_uri": "https://localhost:8080/",
          "height": 282
        },
        "id": "gg2oVBd6I97w",
        "outputId": "2f395433-beb2-44f0-d3a7-189d80e32994"
      },
      "execution_count": null,
      "outputs": [
        {
          "output_type": "execute_result",
          "data": {
            "text/plain": [
              "<matplotlib.image.AxesImage at 0x7f20e93a1550>"
            ]
          },
          "metadata": {},
          "execution_count": 6
        },
        {
          "output_type": "display_data",
          "data": {
            "text/plain": [
              "<Figure size 432x288 with 1 Axes>"
            ],
            "image/png": "[encoded data removed]"
          },
          "metadata": {
            "needs_background": "light"
          }
        }
      ]
    },
    {
      "cell_type": "code",
      "source": [
        "x_train=x_train.reshape(60000,784).astype('float32')\n",
        "x_test=x_test.reshape(10000,784).astype('float32')"
      ],
      "metadata": {
        "id": "GPMtvBNBJFM1"
      },
      "execution_count": null,
      "outputs": []
    },
    {
      "cell_type": "code",
      "source": [
        "x_train.shape"
      ],
      "metadata": {
        "colab": {
          "base_uri": "https://localhost:8080/"
        },
        "id": "sAf-FS06JdM1",
        "outputId": "27dcb74e-6146-4d57-9e75-577af2c14686"
      },
      "execution_count": null,
      "outputs": [
        {
          "output_type": "execute_result",
          "data": {
            "text/plain": [
              "(60000, 784)"
            ]
          },
          "metadata": {},
          "execution_count": 71
        }
      ]
    },
    {
      "cell_type": "code",
      "source": [
        "x_train/=255\n",
        "x_test/=255"
      ],
      "metadata": {
        "id": "_YprR3liJjvi"
      },
      "execution_count": null,
      "outputs": []
    },
    {
      "cell_type": "code",
      "source": [
        "from keras import utils as np_utils\n",
        "n_classes=10\n",
        "y_train=np_utils.to_categorical(y_train,n_classes)\n",
        "y_test=np_utils.to_categorical(y_test,n_classes)"
      ],
      "metadata": {
        "id": "pOOaioMgJt3D"
      },
      "execution_count": null,
      "outputs": []
    },
    {
      "cell_type": "code",
      "source": [
        "model=Sequential()\n",
        "model.add(Dense(64,activation='sigmoid',input_shape=(784,)))\n",
        "model.add(Dense(10,activation='softmax'))\n"
      ],
      "metadata": {
        "id": "iMsJb8nCKfyA"
      },
      "execution_count": null,
      "outputs": []
    },
    {
      "cell_type": "code",
      "source": [
        "from keras.optimizers import SGD\n",
        "model.compile(loss='mean_squared_error',optimizer=SGD(learning_rate=0.01),metrics=['accuracy'])\n"
      ],
      "metadata": {
        "id": "QO8wNwQzSMUD"
      },
      "execution_count": null,
      "outputs": []
    },
    {
      "cell_type": "code",
      "source": [
        "history=model.fit(x_train,y_train,epochs=100,batch_size=125,verbose=1)"
      ],
      "metadata": {
        "colab": {
          "base_uri": "https://localhost:8080/"
        },
        "id": "Rn5vSgmUTHX6",
        "outputId": "efc34d80-1bce-4f5b-bc19-508bfee1eb4a"
      },
      "execution_count": null,
      "outputs": [
        {
          "output_type": "stream",
          "name": "stdout",
          "text": [
            "Epoch 1/100\n",
            "480/480 [==============================] - 3s 5ms/step - loss: 0.0921 - accuracy: 0.1009\n",
            "Epoch 2/100\n",
            "480/480 [==============================] - 2s 4ms/step - loss: 0.0913 - accuracy: 0.1313\n",
            "Epoch 3/100\n",
            "480/480 [==============================] - 2s 5ms/step - loss: 0.0907 - accuracy: 0.1673\n",
            "Epoch 4/100\n",
            "480/480 [==============================] - 2s 5ms/step - loss: 0.0903 - accuracy: 0.1979\n",
            "Epoch 5/100\n",
            "480/480 [==============================] - 2s 4ms/step - loss: 0.0899 - accuracy: 0.2154\n",
            "Epoch 6/100\n",
            "480/480 [==============================] - 2s 5ms/step - loss: 0.0895 - accuracy: 0.2305\n",
            "Epoch 7/100\n",
            "480/480 [==============================] - 2s 5ms/step - loss: 0.0892 - accuracy: 0.2474\n",
            "Epoch 8/100\n",
            "480/480 [==============================] - 3s 6ms/step - loss: 0.0888 - accuracy: 0.2707\n",
            "Epoch 9/100\n",
            "480/480 [==============================] - 2s 5ms/step - loss: 0.0885 - accuracy: 0.2986\n",
            "Epoch 10/100\n",
            "480/480 [==============================] - 2s 5ms/step - loss: 0.0882 - accuracy: 0.3260\n",
            "Epoch 11/100\n",
            "480/480 [==============================] - 2s 5ms/step - loss: 0.0879 - accuracy: 0.3469\n",
            "Epoch 12/100\n",
            "480/480 [==============================] - 2s 5ms/step - loss: 0.0875 - accuracy: 0.3668\n",
            "Epoch 13/100\n",
            "480/480 [==============================] - 2s 4ms/step - loss: 0.0872 - accuracy: 0.3839\n",
            "Epoch 14/100\n",
            "480/480 [==============================] - 2s 4ms/step - loss: 0.0869 - accuracy: 0.3974\n",
            "Epoch 15/100\n",
            "480/480 [==============================] - 2s 4ms/step - loss: 0.0865 - accuracy: 0.4108\n",
            "Epoch 16/100\n",
            "480/480 [==============================] - 2s 4ms/step - loss: 0.0862 - accuracy: 0.4209\n",
            "Epoch 17/100\n",
            "480/480 [==============================] - 2s 4ms/step - loss: 0.0858 - accuracy: 0.4283\n",
            "Epoch 18/100\n",
            "480/480 [==============================] - 2s 4ms/step - loss: 0.0855 - accuracy: 0.4365\n",
            "Epoch 19/100\n",
            "480/480 [==============================] - 2s 4ms/step - loss: 0.0851 - accuracy: 0.4407\n",
            "Epoch 20/100\n",
            "480/480 [==============================] - 2s 4ms/step - loss: 0.0847 - accuracy: 0.4474\n",
            "Epoch 21/100\n",
            "480/480 [==============================] - 2s 5ms/step - loss: 0.0843 - accuracy: 0.4527\n",
            "Epoch 22/100\n",
            "480/480 [==============================] - 2s 5ms/step - loss: 0.0840 - accuracy: 0.4561\n",
            "Epoch 23/100\n",
            "480/480 [==============================] - 2s 4ms/step - loss: 0.0835 - accuracy: 0.4599\n",
            "Epoch 24/100\n",
            "480/480 [==============================] - 2s 5ms/step - loss: 0.0831 - accuracy: 0.4627\n",
            "Epoch 25/100\n",
            "480/480 [==============================] - 2s 4ms/step - loss: 0.0827 - accuracy: 0.4659\n",
            "Epoch 26/100\n",
            "480/480 [==============================] - 2s 5ms/step - loss: 0.0823 - accuracy: 0.4695\n",
            "Epoch 27/100\n",
            "480/480 [==============================] - 2s 5ms/step - loss: 0.0818 - accuracy: 0.4723\n",
            "Epoch 28/100\n",
            "480/480 [==============================] - 2s 5ms/step - loss: 0.0814 - accuracy: 0.4750\n",
            "Epoch 29/100\n",
            "480/480 [==============================] - 2s 4ms/step - loss: 0.0809 - accuracy: 0.4781\n",
            "Epoch 30/100\n",
            "480/480 [==============================] - 2s 5ms/step - loss: 0.0804 - accuracy: 0.4806\n",
            "Epoch 31/100\n",
            "480/480 [==============================] - 2s 4ms/step - loss: 0.0800 - accuracy: 0.4837\n",
            "Epoch 32/100\n",
            "480/480 [==============================] - 2s 4ms/step - loss: 0.0795 - accuracy: 0.4881\n",
            "Epoch 33/100\n",
            "480/480 [==============================] - 2s 4ms/step - loss: 0.0790 - accuracy: 0.4910\n",
            "Epoch 34/100\n",
            "480/480 [==============================] - 2s 4ms/step - loss: 0.0785 - accuracy: 0.4938\n",
            "Epoch 35/100\n",
            "480/480 [==============================] - 2s 4ms/step - loss: 0.0780 - accuracy: 0.4980\n",
            "Epoch 36/100\n",
            "480/480 [==============================] - 2s 5ms/step - loss: 0.0774 - accuracy: 0.5010\n",
            "Epoch 37/100\n",
            "480/480 [==============================] - 3s 7ms/step - loss: 0.0769 - accuracy: 0.5034\n",
            "Epoch 38/100\n",
            "480/480 [==============================] - 2s 4ms/step - loss: 0.0764 - accuracy: 0.5076\n",
            "Epoch 39/100\n",
            "480/480 [==============================] - 2s 4ms/step - loss: 0.0759 - accuracy: 0.5112\n",
            "Epoch 40/100\n",
            "480/480 [==============================] - 2s 4ms/step - loss: 0.0753 - accuracy: 0.5148\n",
            "Epoch 41/100\n",
            "480/480 [==============================] - 2s 4ms/step - loss: 0.0748 - accuracy: 0.5175\n",
            "Epoch 42/100\n",
            "480/480 [==============================] - 2s 4ms/step - loss: 0.0742 - accuracy: 0.5208\n",
            "Epoch 43/100\n",
            "480/480 [==============================] - 2s 5ms/step - loss: 0.0737 - accuracy: 0.5236\n",
            "Epoch 44/100\n",
            "480/480 [==============================] - 3s 5ms/step - loss: 0.0731 - accuracy: 0.5267\n",
            "Epoch 45/100\n",
            "480/480 [==============================] - 2s 4ms/step - loss: 0.0726 - accuracy: 0.5296\n",
            "Epoch 46/100\n",
            "480/480 [==============================] - 2s 4ms/step - loss: 0.0720 - accuracy: 0.5328\n",
            "Epoch 47/100\n",
            "480/480 [==============================] - 2s 4ms/step - loss: 0.0715 - accuracy: 0.5363\n",
            "Epoch 48/100\n",
            "480/480 [==============================] - 2s 5ms/step - loss: 0.0709 - accuracy: 0.5392\n",
            "Epoch 49/100\n",
            "480/480 [==============================] - 2s 5ms/step - loss: 0.0704 - accuracy: 0.5421\n",
            "Epoch 50/100\n",
            "480/480 [==============================] - 2s 4ms/step - loss: 0.0698 - accuracy: 0.5457\n",
            "Epoch 51/100\n",
            "480/480 [==============================] - 2s 4ms/step - loss: 0.0693 - accuracy: 0.5487\n",
            "Epoch 52/100\n",
            "480/480 [==============================] - 2s 4ms/step - loss: 0.0688 - accuracy: 0.5512\n",
            "Epoch 53/100\n",
            "480/480 [==============================] - 2s 4ms/step - loss: 0.0682 - accuracy: 0.5538\n",
            "Epoch 54/100\n",
            "480/480 [==============================] - 2s 4ms/step - loss: 0.0677 - accuracy: 0.5566\n",
            "Epoch 55/100\n",
            "480/480 [==============================] - 2s 4ms/step - loss: 0.0672 - accuracy: 0.5597\n",
            "Epoch 56/100\n",
            "480/480 [==============================] - 2s 5ms/step - loss: 0.0667 - accuracy: 0.5621\n",
            "Epoch 57/100\n",
            "480/480 [==============================] - 2s 5ms/step - loss: 0.0661 - accuracy: 0.5645\n",
            "Epoch 58/100\n",
            "480/480 [==============================] - 2s 4ms/step - loss: 0.0656 - accuracy: 0.5678\n",
            "Epoch 59/100\n",
            "480/480 [==============================] - 2s 4ms/step - loss: 0.0651 - accuracy: 0.5707\n",
            "Epoch 60/100\n",
            "480/480 [==============================] - 2s 4ms/step - loss: 0.0646 - accuracy: 0.5743\n",
            "Epoch 61/100\n",
            "480/480 [==============================] - 2s 4ms/step - loss: 0.0641 - accuracy: 0.5772\n",
            "Epoch 62/100\n",
            "480/480 [==============================] - 2s 4ms/step - loss: 0.0636 - accuracy: 0.5802\n",
            "Epoch 63/100\n",
            "480/480 [==============================] - 2s 5ms/step - loss: 0.0631 - accuracy: 0.5842\n",
            "Epoch 64/100\n",
            "480/480 [==============================] - 2s 5ms/step - loss: 0.0626 - accuracy: 0.5878\n",
            "Epoch 65/100\n",
            "480/480 [==============================] - 2s 5ms/step - loss: 0.0622 - accuracy: 0.5916\n",
            "Epoch 66/100\n",
            "480/480 [==============================] - 2s 4ms/step - loss: 0.0617 - accuracy: 0.5950\n",
            "Epoch 67/100\n",
            "480/480 [==============================] - 2s 4ms/step - loss: 0.0612 - accuracy: 0.5997\n",
            "Epoch 68/100\n",
            "480/480 [==============================] - 2s 4ms/step - loss: 0.0608 - accuracy: 0.6042\n",
            "Epoch 69/100\n",
            "480/480 [==============================] - 2s 4ms/step - loss: 0.0603 - accuracy: 0.6082\n",
            "Epoch 70/100\n",
            "480/480 [==============================] - 2s 4ms/step - loss: 0.0599 - accuracy: 0.6138\n",
            "Epoch 71/100\n",
            "480/480 [==============================] - 2s 4ms/step - loss: 0.0594 - accuracy: 0.6183\n",
            "Epoch 72/100\n",
            "480/480 [==============================] - 2s 4ms/step - loss: 0.0590 - accuracy: 0.6229\n",
            "Epoch 73/100\n",
            "480/480 [==============================] - 2s 4ms/step - loss: 0.0585 - accuracy: 0.6276\n",
            "Epoch 74/100\n",
            "480/480 [==============================] - 2s 4ms/step - loss: 0.0581 - accuracy: 0.6321\n",
            "Epoch 75/100\n",
            "480/480 [==============================] - 2s 4ms/step - loss: 0.0577 - accuracy: 0.6369\n",
            "Epoch 76/100\n",
            "480/480 [==============================] - 2s 4ms/step - loss: 0.0573 - accuracy: 0.6406\n",
            "Epoch 77/100\n",
            "480/480 [==============================] - 2s 5ms/step - loss: 0.0569 - accuracy: 0.6448\n",
            "Epoch 78/100\n",
            "480/480 [==============================] - 2s 5ms/step - loss: 0.0564 - accuracy: 0.6491\n",
            "Epoch 79/100\n",
            "480/480 [==============================] - 2s 4ms/step - loss: 0.0560 - accuracy: 0.6532\n",
            "Epoch 80/100\n",
            "480/480 [==============================] - 2s 4ms/step - loss: 0.0556 - accuracy: 0.6574\n",
            "Epoch 81/100\n",
            "480/480 [==============================] - 2s 4ms/step - loss: 0.0552 - accuracy: 0.6601\n",
            "Epoch 82/100\n",
            "480/480 [==============================] - 2s 4ms/step - loss: 0.0549 - accuracy: 0.6634\n",
            "Epoch 83/100\n",
            "480/480 [==============================] - 2s 5ms/step - loss: 0.0545 - accuracy: 0.6666\n",
            "Epoch 84/100\n",
            "480/480 [==============================] - 2s 5ms/step - loss: 0.0541 - accuracy: 0.6698\n",
            "Epoch 85/100\n",
            "480/480 [==============================] - 2s 4ms/step - loss: 0.0537 - accuracy: 0.6724\n",
            "Epoch 86/100\n",
            "480/480 [==============================] - 2s 4ms/step - loss: 0.0533 - accuracy: 0.6750\n",
            "Epoch 87/100\n",
            "480/480 [==============================] - 2s 5ms/step - loss: 0.0530 - accuracy: 0.6772\n",
            "Epoch 88/100\n",
            "480/480 [==============================] - 2s 5ms/step - loss: 0.0526 - accuracy: 0.6796\n",
            "Epoch 89/100\n",
            "480/480 [==============================] - 2s 4ms/step - loss: 0.0522 - accuracy: 0.6814\n",
            "Epoch 90/100\n",
            "480/480 [==============================] - 2s 4ms/step - loss: 0.0519 - accuracy: 0.6832\n",
            "Epoch 91/100\n",
            "480/480 [==============================] - 2s 4ms/step - loss: 0.0515 - accuracy: 0.6851\n",
            "Epoch 92/100\n",
            "480/480 [==============================] - 2s 4ms/step - loss: 0.0512 - accuracy: 0.6866\n",
            "Epoch 93/100\n",
            "480/480 [==============================] - 2s 4ms/step - loss: 0.0508 - accuracy: 0.6882\n",
            "Epoch 94/100\n",
            "480/480 [==============================] - 2s 5ms/step - loss: 0.0505 - accuracy: 0.6901\n",
            "Epoch 95/100\n",
            "480/480 [==============================] - 2s 4ms/step - loss: 0.0501 - accuracy: 0.6916\n",
            "Epoch 96/100\n",
            "480/480 [==============================] - 2s 5ms/step - loss: 0.0498 - accuracy: 0.6931\n",
            "Epoch 97/100\n",
            "480/480 [==============================] - 2s 4ms/step - loss: 0.0495 - accuracy: 0.6947\n",
            "Epoch 98/100\n",
            "480/480 [==============================] - 2s 4ms/step - loss: 0.0492 - accuracy: 0.6960\n",
            "Epoch 99/100\n",
            "480/480 [==============================] - 2s 5ms/step - loss: 0.0488 - accuracy: 0.6974\n",
            "Epoch 100/100\n",
            "480/480 [==============================] - 3s 5ms/step - loss: 0.0485 - accuracy: 0.6985\n"
          ]
        }
      ]
    },
    {
      "cell_type": "code",
      "source": [
        "plt.plot(history.history['accuracy'])"
      ],
      "metadata": {
        "colab": {
          "base_uri": "https://localhost:8080/",
          "height": 282
        },
        "id": "UZcCSkDWWmST",
        "outputId": "d8ead11c-bec0-465a-9bc1-eb4bbc8a33f9"
      },
      "execution_count": null,
      "outputs": [
        {
          "output_type": "execute_result",
          "data": {
            "text/plain": [
              "[<matplotlib.lines.Line2D at 0x7f74e68d6370>]"
            ]
          },
          "metadata": {},
          "execution_count": 77
        },
        {
          "output_type": "display_data",
          "data": {
            "text/plain": [
              "<Figure size 432x288 with 1 Axes>"
            ],
            "image/png": "[encoded data removed]"
          },
          "metadata": {
            "needs_background": "light"
          }
        }
      ]
    },
    {
      "cell_type": "code",
      "source": [
        "re=model.evaluate(x_test,y_test)\n",
        "re"
      ],
      "metadata": {
        "colab": {
          "base_uri": "https://localhost:8080/"
        },
        "id": "ycWUXkYoaEo7",
        "outputId": "0e9a6c3c-5cca-42bf-9482-49836d27de09"
      },
      "execution_count": null,
      "outputs": [
        {
          "output_type": "stream",
          "name": "stdout",
          "text": [
            "313/313 [==============================] - 1s 3ms/step - loss: 0.0478 - accuracy: 0.7053\n"
          ]
        },
        {
          "output_type": "execute_result",
          "data": {
            "text/plain": [
              "[0.047844111919403076, 0.705299973487854]"
            ]
          },
          "metadata": {},
          "execution_count": 78
        }
      ]
    }
  ]
}